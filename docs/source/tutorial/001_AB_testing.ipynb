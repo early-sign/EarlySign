{
 "cells": [
  {
   "cell_type": "markdown",
   "id": "88803965",
   "metadata": {},
   "source": [
    "# EarlySign Tutorial: Group Sequential Testing (Two-Proportions) with a Ledger-Centric Design\n",
    "\n",
    "This tutorial demonstrates how to run a group sequential test (GST) for a two-proportions A/B experiment using a **ledger-centric** architecture.\n",
    "\n",
    "We will:\n",
    "1. Initialize a Polars-backed ledger.\n",
    "2. Iteratively append observation batches (simulated).\n",
    "3. Update a Wald Z statistic and a Lan–DeMets (OBF/Pocock) boundary per look.\n",
    "4. Emit a stop signal if the boundary is crossed.\n",
    "5. Summarize and visualize progress.\n",
    "\n",
    "## Requirements\n",
    "\n",
    "```bash\n",
    "pip install earlysign[examples]\n",
    "```"
   ]
  },
  {
   "cell_type": "code",
   "execution_count": 15,
   "id": "1c3a6d14",
   "metadata": {},
   "outputs": [
    {
     "ename": "ImportError",
     "evalue": "cannot import name 'Observation' from 'earlysign.core.components' (/Users/teshima/2025/EarlySign/earlysign/core/components.py)",
     "output_type": "error",
     "traceback": [
      "\u001b[31m---------------------------------------------------------------------------\u001b[39m",
      "\u001b[31mImportError\u001b[39m                               Traceback (most recent call last)",
      "\u001b[36mCell\u001b[39m\u001b[36m \u001b[39m\u001b[32mIn[15]\u001b[39m\u001b[32m, line 4\u001b[39m\n\u001b[32m      1\u001b[39m \u001b[38;5;28;01mimport\u001b[39;00m\u001b[38;5;250m \u001b[39m\u001b[34;01mnumpy\u001b[39;00m\u001b[38;5;250m \u001b[39m\u001b[38;5;28;01mas\u001b[39;00m\u001b[38;5;250m \u001b[39m\u001b[34;01mnp\u001b[39;00m\n\u001b[32m      3\u001b[39m \u001b[38;5;66;03m# New business-oriented facade API - all A/B testing functionality in one place\u001b[39;00m\n\u001b[32m----> \u001b[39m\u001b[32m4\u001b[39m \u001b[38;5;28;01mfrom\u001b[39;00m\u001b[38;5;250m \u001b[39m\u001b[34;01mearlysign\u001b[39;00m\u001b[34;01m.\u001b[39;00m\u001b[34;01mapi\u001b[39;00m\u001b[34;01m.\u001b[39;00m\u001b[34;01mab_test\u001b[39;00m\u001b[38;5;250m \u001b[39m\u001b[38;5;28;01mimport\u001b[39;00m interim_analysis\n\u001b[32m      5\u001b[39m \u001b[38;5;28;01mfrom\u001b[39;00m\u001b[38;5;250m \u001b[39m\u001b[34;01mearlysign\u001b[39;00m\u001b[34;01m.\u001b[39;00m\u001b[34;01mrunners\u001b[39;00m\u001b[38;5;250m \u001b[39m\u001b[38;5;28;01mimport\u001b[39;00m SequentialRunner\n\u001b[32m      6\u001b[39m \u001b[38;5;28;01mfrom\u001b[39;00m\u001b[38;5;250m \u001b[39m\u001b[34;01mearlysign\u001b[39;00m\u001b[34;01m.\u001b[39;00m\u001b[34;01mbackends\u001b[39;00m\u001b[34;01m.\u001b[39;00m\u001b[34;01mpolars\u001b[39;00m\u001b[34;01m.\u001b[39;00m\u001b[34;01mledger\u001b[39;00m\u001b[38;5;250m \u001b[39m\u001b[38;5;28;01mimport\u001b[39;00m PolarsLedger\n",
      "\u001b[36mFile \u001b[39m\u001b[32m~/2025/EarlySign/earlysign/api/ab_test.py:28\u001b[39m\n\u001b[32m     25\u001b[39m \u001b[38;5;28;01mfrom\u001b[39;00m\u001b[38;5;250m \u001b[39m\u001b[34;01mtyping\u001b[39;00m\u001b[38;5;250m \u001b[39m\u001b[38;5;28;01mimport\u001b[39;00m Optional, Literal, Dict, Any, List\n\u001b[32m     26\u001b[39m \u001b[38;5;28;01mfrom\u001b[39;00m\u001b[38;5;250m \u001b[39m\u001b[34;01mdataclasses\u001b[39;00m\u001b[38;5;250m \u001b[39m\u001b[38;5;28;01mimport\u001b[39;00m dataclass, field\n\u001b[32m---> \u001b[39m\u001b[32m28\u001b[39m \u001b[38;5;28;01mfrom\u001b[39;00m\u001b[38;5;250m \u001b[39m\u001b[34;01mearlysign\u001b[39;00m\u001b[34;01m.\u001b[39;00m\u001b[34;01mstats\u001b[39;00m\u001b[34;01m.\u001b[39;00m\u001b[34;01mschemes\u001b[39;00m\u001b[34;01m.\u001b[39;00m\u001b[34;01mtwo_proportions\u001b[39;00m\u001b[34;01m.\u001b[39;00m\u001b[34;01mgst\u001b[39;00m\u001b[38;5;250m \u001b[39m\u001b[38;5;28;01mimport\u001b[39;00m TwoPropGSTModule\n\u001b[32m     29\u001b[39m \u001b[38;5;28;01mfrom\u001b[39;00m\u001b[38;5;250m \u001b[39m\u001b[34;01mearlysign\u001b[39;00m\u001b[34;01m.\u001b[39;00m\u001b[34;01mstats\u001b[39;00m\u001b[34;01m.\u001b[39;00m\u001b[34;01mschemes\u001b[39;00m\u001b[34;01m.\u001b[39;00m\u001b[34;01mtwo_proportions\u001b[39;00m\u001b[34;01m.\u001b[39;00m\u001b[34;01msafe\u001b[39;00m\u001b[38;5;250m \u001b[39m\u001b[38;5;28;01mimport\u001b[39;00m TwoPropSafeModule\n\u001b[32m     32\u001b[39m \u001b[38;5;28;01mdef\u001b[39;00m\u001b[38;5;250m \u001b[39m\u001b[34minterim_analysis\u001b[39m(\n\u001b[32m     33\u001b[39m     experiment_id: \u001b[38;5;28mstr\u001b[39m,\n\u001b[32m     34\u001b[39m     alpha: \u001b[38;5;28mfloat\u001b[39m = \u001b[32m0.05\u001b[39m,\n\u001b[32m     35\u001b[39m     looks: \u001b[38;5;28mint\u001b[39m = \u001b[32m4\u001b[39m,\n\u001b[32m     36\u001b[39m     spending: Literal[\u001b[33m\"\u001b[39m\u001b[33mconservative\u001b[39m\u001b[33m\"\u001b[39m, \u001b[33m\"\u001b[39m\u001b[33maggressive\u001b[39m\u001b[33m\"\u001b[39m] = \u001b[33m\"\u001b[39m\u001b[33mconservative\u001b[39m\u001b[33m\"\u001b[39m,\n\u001b[32m     37\u001b[39m ) -> TwoPropGSTModule:\n",
      "\u001b[36mFile \u001b[39m\u001b[32m~/2025/EarlySign/earlysign/stats/schemes/two_proportions/gst.py:18\u001b[39m\n\u001b[32m     16\u001b[39m \u001b[38;5;28;01mfrom\u001b[39;00m\u001b[38;5;250m \u001b[39m\u001b[34;01mearlysign\u001b[39;00m\u001b[34;01m.\u001b[39;00m\u001b[34;01mruntime\u001b[39;00m\u001b[34;01m.\u001b[39;00m\u001b[34;01mexperiment_module\u001b[39;00m\u001b[38;5;250m \u001b[39m\u001b[38;5;28;01mimport\u001b[39;00m AnalysisResult\n\u001b[32m     17\u001b[39m \u001b[38;5;28;01mfrom\u001b[39;00m\u001b[38;5;250m \u001b[39m\u001b[34;01mearlysign\u001b[39;00m\u001b[34;01m.\u001b[39;00m\u001b[34;01mstats\u001b[39;00m\u001b[34;01m.\u001b[39;00m\u001b[34;01mschemes\u001b[39;00m\u001b[34;01m.\u001b[39;00m\u001b[34;01mtwo_proportions\u001b[39;00m\u001b[34;01m.\u001b[39;00m\u001b[34;01mmodules\u001b[39;00m\u001b[38;5;250m \u001b[39m\u001b[38;5;28;01mimport\u001b[39;00m TwoPropModule\n\u001b[32m---> \u001b[39m\u001b[32m18\u001b[39m \u001b[38;5;28;01mfrom\u001b[39;00m\u001b[38;5;250m \u001b[39m\u001b[34;01mearlysign\u001b[39;00m\u001b[34;01m.\u001b[39;00m\u001b[34;01mstats\u001b[39;00m\u001b[34;01m.\u001b[39;00m\u001b[34;01mschemes\u001b[39;00m\u001b[34;01m.\u001b[39;00m\u001b[34;01mtwo_proportions\u001b[39;00m\u001b[34;01m.\u001b[39;00m\u001b[34;01mingest\u001b[39;00m\u001b[38;5;250m \u001b[39m\u001b[38;5;28;01mimport\u001b[39;00m TwoPropObservation\n\u001b[32m     21\u001b[39m \u001b[38;5;28;01mclass\u001b[39;00m\u001b[38;5;250m \u001b[39m\u001b[34;01mTwoPropGSTModule\u001b[39;00m(TwoPropModule):\n\u001b[32m     22\u001b[39m \u001b[38;5;250m    \u001b[39m\u001b[33;03m\"\"\"Two-proportions Group Sequential Testing experiment module.\u001b[39;00m\n\u001b[32m     23\u001b[39m \n\u001b[32m     24\u001b[39m \u001b[33;03m    Implements group sequential testing with error spending functions\u001b[39;00m\n\u001b[32m     25\u001b[39m \u001b[33;03m    for comparing two binomial proportions.\u001b[39;00m\n\u001b[32m     26\u001b[39m \u001b[33;03m    \"\"\"\u001b[39;00m\n",
      "\u001b[36mFile \u001b[39m\u001b[32m~/2025/EarlySign/earlysign/stats/schemes/two_proportions/ingest.py:40\u001b[39m\n\u001b[32m     37\u001b[39m \u001b[38;5;28;01mfrom\u001b[39;00m\u001b[38;5;250m \u001b[39m\u001b[34;01mdatetime\u001b[39;00m\u001b[38;5;250m \u001b[39m\u001b[38;5;28;01mimport\u001b[39;00m datetime, timezone\n\u001b[32m     38\u001b[39m \u001b[38;5;28;01mfrom\u001b[39;00m\u001b[38;5;250m \u001b[39m\u001b[34;01mtyping\u001b[39;00m\u001b[38;5;250m \u001b[39m\u001b[38;5;28;01mimport\u001b[39;00m List, Dict, Any, Optional, Union\n\u001b[32m---> \u001b[39m\u001b[32m40\u001b[39m \u001b[38;5;28;01mfrom\u001b[39;00m\u001b[38;5;250m \u001b[39m\u001b[34;01mearlysign\u001b[39;00m\u001b[34;01m.\u001b[39;00m\u001b[34;01mcore\u001b[39;00m\u001b[34;01m.\u001b[39;00m\u001b[34;01mcomponents\u001b[39;00m\u001b[38;5;250m \u001b[39m\u001b[38;5;28;01mimport\u001b[39;00m Observation\n\u001b[32m     41\u001b[39m \u001b[38;5;28;01mfrom\u001b[39;00m\u001b[38;5;250m \u001b[39m\u001b[34;01mearlysign\u001b[39;00m\u001b[34;01m.\u001b[39;00m\u001b[34;01mcore\u001b[39;00m\u001b[34;01m.\u001b[39;00m\u001b[34;01mledger\u001b[39;00m\u001b[38;5;250m \u001b[39m\u001b[38;5;28;01mimport\u001b[39;00m Ledger\n\u001b[32m     42\u001b[39m \u001b[38;5;28;01mfrom\u001b[39;00m\u001b[38;5;250m \u001b[39m\u001b[34;01mearlysign\u001b[39;00m\u001b[34;01m.\u001b[39;00m\u001b[34;01mcore\u001b[39;00m\u001b[34;01m.\u001b[39;00m\u001b[34;01mnames\u001b[39;00m\u001b[38;5;250m \u001b[39m\u001b[38;5;28;01mimport\u001b[39;00m ExperimentId, StepKey, TimeIndex\n",
      "\u001b[31mImportError\u001b[39m: cannot import name 'Observation' from 'earlysign.core.components' (/Users/teshima/2025/EarlySign/earlysign/core/components.py)"
     ]
    }
   ],
   "source": [
    "import numpy as np\n",
    "\n",
    "# New business-oriented facade API - all A/B testing functionality in one place\n",
    "from earlysign.api.ab_test import interim_analysis\n",
    "from earlysign.runners import SequentialRunner\n",
    "from earlysign.backends.polars.ledger import PolarsLedger\n",
    "\n",
    "# Legacy imports (still available for advanced use)\n",
    "from earlysign.core.names import Namespace, ExperimentId, StepKey, TimeIndex\n",
    "from earlysign.methods.group_sequential.two_proportions import (\n",
    "    WaldZStatistic,\n",
    "    LanDeMetsBoundary,\n",
    "    PeekSignaler,\n",
    "    nominal_alpha_increments,\n",
    ")\n",
    "from earlysign.reporting.generic import LedgerReporter\n",
    "from earlysign.reporting.two_proportions import TwoPropGSTReporter\n",
    "\n",
    "np.set_printoptions(suppress=True)"
   ]
  },
  {
   "cell_type": "markdown",
   "id": "ec4e1b41",
   "metadata": {},
   "source": [
    "## Configure the experiment\n",
    "\n",
    "We plan 4 looks, a two-sided alpha of 0.05, and O'Brien–Fleming (OBF) spending. We also specify a target fixed-sample size per arm just for this simulation example.\n"
   ]
  },
  {
   "cell_type": "code",
   "execution_count": null,
   "id": "bd61c573",
   "metadata": {},
   "outputs": [],
   "source": [
    "import math\n",
    "from datetime import datetime, timezone\n",
    "\n",
    "# Experiment configuration\n",
    "exp_id = \"exp#loop-demo\"\n",
    "alpha_total = 0.05\n",
    "looks = 4\n",
    "spending = \"conservative\"  # \"conservative\" (OBF) or \"aggressive\" (Pocock)\n",
    "\n",
    "# Step 1: Create a business-oriented experiment using the facade API\n",
    "# This uses familiar terminology: \"interim_analysis\" instead of \"group_sequential_test\"\n",
    "experiment = interim_analysis(\n",
    "    experiment_id=exp_id, alpha=alpha_total, looks=looks, spending=spending\n",
    ")\n",
    "\n",
    "# Step 2: Create a runner with your chosen backend\n",
    "# The runner handles execution while the module defines the experiment\n",
    "runner = SequentialRunner(experiment, PolarsLedger())\n",
    "\n",
    "print(f\"📦 Experiment: {experiment.__class__.__name__}\")\n",
    "print(f\"🏃 Runner: {runner.__class__.__name__}\")\n",
    "print(f\"⚙️  Backend: {type(runner.ledger).__name__}\")\n",
    "\n",
    "# Simulation parameters (for demonstration)\n",
    "n_per_arm = 400\n",
    "t_grid = tuple((i + 1) / looks for i in range(looks))  # (0.25, 0.5, 0.75, 1.0)\n",
    "targets = [math.ceil(n_per_arm * t) for t in t_grid]\n",
    "\n",
    "# Ground-truth rates (for simulation)\n",
    "pA_true, pB_true = 0.70, 0.80\n",
    "rng = np.random.default_rng(7)\n",
    "\n",
    "print(f\"\\n🎯 Experiment Design:\")\n",
    "print(f\"   Method: Interim Analysis with {spending} spending\")\n",
    "print(f\"   Alpha: {alpha_total}, Looks: {looks}\")\n",
    "print(f\"   Targets per look: {targets}\")\n",
    "print(f\"   True rates: Group A = {pA_true:.0%}, Group B = {pB_true:.0%}\")\n",
    "\n",
    "# The experiment automatically registers the design when setup() is called by the runner\n",
    "summary = runner.get_summary()\n",
    "print(f\"\\n✅ Setup complete. Components: {summary['components']}\")"
   ]
  },
  {
   "cell_type": "markdown",
   "id": "a623c878",
   "metadata": {},
   "source": [
    "## Run the sequential procedure in a loop\n",
    "\n",
    "For each look:\n",
    "1. Append a new observation batch to the ledger.\n",
    "2. Update the Wald Z statistic.\n",
    "3. Update the Lan–DeMets (OBF) boundary at the current information fraction.\n",
    "4. Let the signaler check whether to **stop early**."
   ]
  },
  {
   "cell_type": "code",
   "execution_count": null,
   "id": "59082e0d",
   "metadata": {},
   "outputs": [
    {
     "data": {
      "text/plain": [
       "(True, 3)"
      ]
     },
     "execution_count": 3,
     "metadata": {},
     "output_type": "execute_result"
    }
   ],
   "source": [
    "cum_nA = cum_nB = cum_mA = cum_mB = 0\n",
    "stopped = False\n",
    "stop_look = None\n",
    "\n",
    "for i, t in enumerate(t_grid, start=1):\n",
    "    # Target sample size up to this look\n",
    "    target = targets[i - 1]\n",
    "    add_nA = max(target - cum_nA, 0)\n",
    "    add_nB = max(target - cum_nB, 0)\n",
    "    add_mA = int(rng.binomial(add_nA, pA_true)) if add_nA > 0 else 0\n",
    "    add_mB = int(rng.binomial(add_nB, pB_true)) if add_nB > 0 else 0\n",
    "\n",
    "    cum_nA += add_nA\n",
    "    cum_nB += add_nB\n",
    "    cum_mA += add_mA\n",
    "    cum_mB += add_mB\n",
    "\n",
    "    print(f\"\\n=== Look {i} ===\")\n",
    "    print(f\"Adding: Group A {add_mA}/{add_nA}, Group B {add_mB}/{add_nB}\")\n",
    "    print(\n",
    "        f\"Cumulative: Group A {cum_mA}/{cum_nA} ({cum_mA/cum_nA:.1%}), Group B {cum_mB}/{cum_nB} ({cum_mB/cum_nB:.1%})\"\n",
    "    )\n",
    "\n",
    "    # 1) Add observations using the modular interface\n",
    "    runner.add_observations(\n",
    "        group_a_success=add_mA,\n",
    "        group_a_total=add_nA,\n",
    "        group_b_success=add_mB,\n",
    "        group_b_total=add_nB,\n",
    "    )\n",
    "\n",
    "    # 2) Run analysis - the module coordinates all components internally\n",
    "    result = runner.analyze()\n",
    "\n",
    "    print(f\"Z-statistic: {result.statistic_value:.3f}\")\n",
    "    if result.threshold_value:\n",
    "        print(f\"Boundary: ±{result.threshold_value:.3f}\")\n",
    "    print(\n",
    "        f\"Information fraction: {result.additional_metrics.get('information_fraction', 'N/A'):.3f}\"\n",
    "    )\n",
    "    print(f\"Decision: {'🛑 STOP' if result.should_stop else '✅ Continue'}\")\n",
    "\n",
    "    if result.should_stop:\n",
    "        stopped = True\n",
    "        stop_look = i\n",
    "        break\n",
    "\n",
    "print(f\"\\n=== Final Result ===\")\n",
    "print(f\"Stopped: {stopped}, Stop look: {stop_look}\")\n",
    "print(f\"Final sample size: {cum_nA + cum_nB}\")\n",
    "\n",
    "# Get final summary from the runner\n",
    "final_summary = runner.get_summary()\n",
    "print(f\"Total looks executed: {final_summary['total_looks']}\")\n",
    "\n",
    "# Access the underlying ledger for advanced operations (if needed)\n",
    "L = runner._ledger"
   ]
  },
  {
   "cell_type": "markdown",
   "id": "c0ddbf9d",
   "metadata": {},
   "source": [
    "## Inspect the ledger\n",
    "We can show a generic view of the ledger and a method-specific progress table."
   ]
  },
  {
   "cell_type": "code",
   "execution_count": null,
   "id": "a5af005c",
   "metadata": {},
   "outputs": [
    {
     "data": {
      "text/html": [
       "<div><style>\n",
       ".dataframe > thead > tr,\n",
       ".dataframe > tbody > tr {\n",
       "  text-align: right;\n",
       "  white-space: pre-wrap;\n",
       "}\n",
       "</style>\n",
       "<small>shape: (11, 10)</small><table border=\"1\" class=\"dataframe\"><thead><tr><th>uuid</th><th>time_index</th><th>ts</th><th>namespace</th><th>kind</th><th>entity</th><th>snapshot_id</th><th>tag</th><th>payload_type</th><th>payload</th></tr><tr><td>str</td><td>str</td><td>datetime[μs, UTC]</td><td>str</td><td>str</td><td>str</td><td>str</td><td>str</td><td>str</td><td>str</td></tr></thead><tbody><tr><td>&quot;421a978f-4c79-4443-a91e-19e8bc…</td><td>&quot;t_design&quot;</td><td>2025-09-07 17:10:32.836200 UTC</td><td>&quot;design&quot;</td><td>&quot;registered&quot;</td><td>&quot;exp#loop-demo&quot;</td><td>&quot;design-v1&quot;</td><td>&quot;design&quot;</td><td>&quot;TwoPropDesign&quot;</td><td>&quot;{&quot;alpha&quot;:0.05,&quot;spending&quot;:&quot;obf&quot;…</td></tr><tr><td>&quot;70afba7b-0be9-4332-82f5-e7ac7f…</td><td>&quot;t1&quot;</td><td>2025-09-07 17:10:32.842825 UTC</td><td>&quot;obs&quot;</td><td>&quot;observation&quot;</td><td>&quot;exp#loop-demo&quot;</td><td>&quot;look-1&quot;</td><td>&quot;obs&quot;</td><td>&quot;TwoPropObsBatch&quot;</td><td>&quot;{&quot;nA&quot;:100,&quot;nB&quot;:100,&quot;mA&quot;:64,&quot;mB…</td></tr><tr><td>&quot;2b014a5f-c690-4f01-b0cb-3c6ea4…</td><td>&quot;t1&quot;</td><td>2025-09-07 17:10:32.844534 UTC</td><td>&quot;stats&quot;</td><td>&quot;updated&quot;</td><td>&quot;exp#loop-demo&quot;</td><td>&quot;look-1&quot;</td><td>&quot;stat:waldz&quot;</td><td>&quot;WaldZ&quot;</td><td>&quot;{&quot;z&quot;:2.9277002188455983,&quot;se&quot;:0…</td></tr><tr><td>&quot;e85d8747-9310-4ac8-8469-85f2fd…</td><td>&quot;t1&quot;</td><td>2025-09-07 17:10:32.845027 UTC</td><td>&quot;criteria&quot;</td><td>&quot;updated&quot;</td><td>&quot;exp#loop-demo&quot;</td><td>&quot;look-1&quot;</td><td>&quot;crit:gst&quot;</td><td>&quot;GSTBoundary&quot;</td><td>&quot;{&quot;upper&quot;:3.919927969080382,&quot;lo…</td></tr><tr><td>&quot;48d64ea5-b32b-42d0-bdc8-61f509…</td><td>&quot;t2&quot;</td><td>2025-09-07 17:10:32.846762 UTC</td><td>&quot;obs&quot;</td><td>&quot;observation&quot;</td><td>&quot;exp#loop-demo&quot;</td><td>&quot;look-2&quot;</td><td>&quot;obs&quot;</td><td>&quot;TwoPropObsBatch&quot;</td><td>&quot;{&quot;nA&quot;:100,&quot;nB&quot;:100,&quot;mA&quot;:77,&quot;mB…</td></tr><tr><td>&hellip;</td><td>&hellip;</td><td>&hellip;</td><td>&hellip;</td><td>&hellip;</td><td>&hellip;</td><td>&hellip;</td><td>&hellip;</td><td>&hellip;</td><td>&hellip;</td></tr><tr><td>&quot;f7ec9961-d5ea-4048-95e1-e34630…</td><td>&quot;t2&quot;</td><td>2025-09-07 17:10:32.847411 UTC</td><td>&quot;criteria&quot;</td><td>&quot;updated&quot;</td><td>&quot;exp#loop-demo&quot;</td><td>&quot;look-2&quot;</td><td>&quot;crit:gst&quot;</td><td>&quot;GSTBoundary&quot;</td><td>&quot;{&quot;upper&quot;:2.771807648699362,&quot;lo…</td></tr><tr><td>&quot;0910318f-4ea5-4868-8c2c-599f21…</td><td>&quot;t3&quot;</td><td>2025-09-07 17:10:32.848451 UTC</td><td>&quot;obs&quot;</td><td>&quot;observation&quot;</td><td>&quot;exp#loop-demo&quot;</td><td>&quot;look-3&quot;</td><td>&quot;obs&quot;</td><td>&quot;TwoPropObsBatch&quot;</td><td>&quot;{&quot;nA&quot;:100,&quot;nB&quot;:100,&quot;mA&quot;:66,&quot;mB…</td></tr><tr><td>&quot;c11d3a02-8cae-49f7-88b2-ecbcba…</td><td>&quot;t3&quot;</td><td>2025-09-07 17:10:32.848914 UTC</td><td>&quot;stats&quot;</td><td>&quot;updated&quot;</td><td>&quot;exp#loop-demo&quot;</td><td>&quot;look-3&quot;</td><td>&quot;stat:waldz&quot;</td><td>&quot;WaldZ&quot;</td><td>&quot;{&quot;z&quot;:3.638293754762681,&quot;se&quot;:0.…</td></tr><tr><td>&quot;b649a345-6819-4fbd-ba7c-a139d8…</td><td>&quot;t3&quot;</td><td>2025-09-07 17:10:32.849163 UTC</td><td>&quot;criteria&quot;</td><td>&quot;updated&quot;</td><td>&quot;exp#loop-demo&quot;</td><td>&quot;look-3&quot;</td><td>&quot;crit:gst&quot;</td><td>&quot;GSTBoundary&quot;</td><td>&quot;{&quot;upper&quot;:2.263171468152342,&quot;lo…</td></tr><tr><td>&quot;495d5d6a-fb8e-4d99-84fd-d7de39…</td><td>&quot;t3&quot;</td><td>2025-09-07 17:10:32.849829 UTC</td><td>&quot;signals&quot;</td><td>&quot;emitted&quot;</td><td>&quot;exp#loop-demo&quot;</td><td>&quot;look-3&quot;</td><td>&quot;gst:decision&quot;</td><td>&quot;Signal&quot;</td><td>&quot;{&quot;topic&quot;:&quot;gst:decision&quot;,&quot;body&quot;…</td></tr></tbody></table></div>"
      ],
      "text/plain": [
       "shape: (11, 10)\n",
       "┌───────────┬───────────┬───────────┬───────────┬───┬───────────┬───────────┬───────────┬──────────┐\n",
       "│ uuid      ┆ time_inde ┆ ts        ┆ namespace ┆ … ┆ snapshot_ ┆ tag       ┆ payload_t ┆ payload  │\n",
       "│ ---       ┆ x         ┆ ---       ┆ ---       ┆   ┆ id        ┆ ---       ┆ ype       ┆ ---      │\n",
       "│ str       ┆ ---       ┆ datetime[ ┆ str       ┆   ┆ ---       ┆ str       ┆ ---       ┆ str      │\n",
       "│           ┆ str       ┆ μs, UTC]  ┆           ┆   ┆ str       ┆           ┆ str       ┆          │\n",
       "╞═══════════╪═══════════╪═══════════╪═══════════╪═══╪═══════════╪═══════════╪═══════════╪══════════╡\n",
       "│ 421a978f- ┆ t_design  ┆ 2025-09-0 ┆ design    ┆ … ┆ design-v1 ┆ design    ┆ TwoPropDe ┆ {\"alpha\" │\n",
       "│ 4c79-4443 ┆           ┆ 7 17:10:3 ┆           ┆   ┆           ┆           ┆ sign      ┆ :0.05,\"s │\n",
       "│ -a91e-19e ┆           ┆ 2.836200  ┆           ┆   ┆           ┆           ┆           ┆ pending\" │\n",
       "│ 8bc…      ┆           ┆ UTC       ┆           ┆   ┆           ┆           ┆           ┆ :\"obf\"…  │\n",
       "│ 70afba7b- ┆ t1        ┆ 2025-09-0 ┆ obs       ┆ … ┆ look-1    ┆ obs       ┆ TwoPropOb ┆ {\"nA\":10 │\n",
       "│ 0be9-4332 ┆           ┆ 7 17:10:3 ┆           ┆   ┆           ┆           ┆ sBatch    ┆ 0,\"nB\":1 │\n",
       "│ -82f5-e7a ┆           ┆ 2.842825  ┆           ┆   ┆           ┆           ┆           ┆ 00,\"mA\": │\n",
       "│ c7f…      ┆           ┆ UTC       ┆           ┆   ┆           ┆           ┆           ┆ 64,\"mB…  │\n",
       "│ 2b014a5f- ┆ t1        ┆ 2025-09-0 ┆ stats     ┆ … ┆ look-1    ┆ stat:wald ┆ WaldZ     ┆ {\"z\":2.9 │\n",
       "│ c690-4f01 ┆           ┆ 7 17:10:3 ┆           ┆   ┆           ┆ z         ┆           ┆ 27700218 │\n",
       "│ -b0cb-3c6 ┆           ┆ 2.844534  ┆           ┆   ┆           ┆           ┆           ┆ 8455983, │\n",
       "│ ea4…      ┆           ┆ UTC       ┆           ┆   ┆           ┆           ┆           ┆ \"se\":0…  │\n",
       "│ e85d8747- ┆ t1        ┆ 2025-09-0 ┆ criteria  ┆ … ┆ look-1    ┆ crit:gst  ┆ GSTBounda ┆ {\"upper\" │\n",
       "│ 9310-4ac8 ┆           ┆ 7 17:10:3 ┆           ┆   ┆           ┆           ┆ ry        ┆ :3.91992 │\n",
       "│ -8469-85f ┆           ┆ 2.845027  ┆           ┆   ┆           ┆           ┆           ┆ 79690803 │\n",
       "│ 2fd…      ┆           ┆ UTC       ┆           ┆   ┆           ┆           ┆           ┆ 82,\"lo…  │\n",
       "│ 48d64ea5- ┆ t2        ┆ 2025-09-0 ┆ obs       ┆ … ┆ look-2    ┆ obs       ┆ TwoPropOb ┆ {\"nA\":10 │\n",
       "│ b32b-42d0 ┆           ┆ 7 17:10:3 ┆           ┆   ┆           ┆           ┆ sBatch    ┆ 0,\"nB\":1 │\n",
       "│ -bdc8-61f ┆           ┆ 2.846762  ┆           ┆   ┆           ┆           ┆           ┆ 00,\"mA\": │\n",
       "│ 509…      ┆           ┆ UTC       ┆           ┆   ┆           ┆           ┆           ┆ 77,\"mB…  │\n",
       "│ …         ┆ …         ┆ …         ┆ …         ┆ … ┆ …         ┆ …         ┆ …         ┆ …        │\n",
       "│ f7ec9961- ┆ t2        ┆ 2025-09-0 ┆ criteria  ┆ … ┆ look-2    ┆ crit:gst  ┆ GSTBounda ┆ {\"upper\" │\n",
       "│ d5ea-4048 ┆           ┆ 7 17:10:3 ┆           ┆   ┆           ┆           ┆ ry        ┆ :2.77180 │\n",
       "│ -95e1-e34 ┆           ┆ 2.847411  ┆           ┆   ┆           ┆           ┆           ┆ 76486993 │\n",
       "│ 630…      ┆           ┆ UTC       ┆           ┆   ┆           ┆           ┆           ┆ 62,\"lo…  │\n",
       "│ 0910318f- ┆ t3        ┆ 2025-09-0 ┆ obs       ┆ … ┆ look-3    ┆ obs       ┆ TwoPropOb ┆ {\"nA\":10 │\n",
       "│ 4ea5-4868 ┆           ┆ 7 17:10:3 ┆           ┆   ┆           ┆           ┆ sBatch    ┆ 0,\"nB\":1 │\n",
       "│ -8c2c-599 ┆           ┆ 2.848451  ┆           ┆   ┆           ┆           ┆           ┆ 00,\"mA\": │\n",
       "│ f21…      ┆           ┆ UTC       ┆           ┆   ┆           ┆           ┆           ┆ 66,\"mB…  │\n",
       "│ c11d3a02- ┆ t3        ┆ 2025-09-0 ┆ stats     ┆ … ┆ look-3    ┆ stat:wald ┆ WaldZ     ┆ {\"z\":3.6 │\n",
       "│ 8cae-49f7 ┆           ┆ 7 17:10:3 ┆           ┆   ┆           ┆ z         ┆           ┆ 38293754 │\n",
       "│ -88b2-ecb ┆           ┆ 2.848914  ┆           ┆   ┆           ┆           ┆           ┆ 762681,\" │\n",
       "│ cba…      ┆           ┆ UTC       ┆           ┆   ┆           ┆           ┆           ┆ se\":0.…  │\n",
       "│ b649a345- ┆ t3        ┆ 2025-09-0 ┆ criteria  ┆ … ┆ look-3    ┆ crit:gst  ┆ GSTBounda ┆ {\"upper\" │\n",
       "│ 6819-4fbd ┆           ┆ 7 17:10:3 ┆           ┆   ┆           ┆           ┆ ry        ┆ :2.26317 │\n",
       "│ -ba7c-a13 ┆           ┆ 2.849163  ┆           ┆   ┆           ┆           ┆           ┆ 14681523 │\n",
       "│ 9d8…      ┆           ┆ UTC       ┆           ┆   ┆           ┆           ┆           ┆ 42,\"lo…  │\n",
       "│ 495d5d6a- ┆ t3        ┆ 2025-09-0 ┆ signals   ┆ … ┆ look-3    ┆ gst:decis ┆ Signal    ┆ {\"topic\" │\n",
       "│ fb8e-4d99 ┆           ┆ 7 17:10:3 ┆           ┆   ┆           ┆ ion       ┆           ┆ :\"gst:de │\n",
       "│ -84fd-d7d ┆           ┆ 2.849829  ┆           ┆   ┆           ┆           ┆           ┆ cision\", │\n",
       "│ e39…      ┆           ┆ UTC       ┆           ┆   ┆           ┆           ┆           ┆ \"body\"…  │\n",
       "└───────────┴───────────┴───────────┴───────────┴───┴───────────┴───────────┴───────────┴──────────┘"
      ]
     },
     "metadata": {},
     "output_type": "display_data"
    },
    {
     "data": {
      "text/html": [
       "<div><style>\n",
       ".dataframe > thead > tr,\n",
       ".dataframe > tbody > tr {\n",
       "  text-align: right;\n",
       "  white-space: pre-wrap;\n",
       "}\n",
       "</style>\n",
       "<small>shape: (5, 3)</small><table border=\"1\" class=\"dataframe\"><thead><tr><th>namespace</th><th>kind</th><th>count</th></tr><tr><td>str</td><td>str</td><td>u32</td></tr></thead><tbody><tr><td>&quot;criteria&quot;</td><td>&quot;updated&quot;</td><td>3</td></tr><tr><td>&quot;design&quot;</td><td>&quot;registered&quot;</td><td>1</td></tr><tr><td>&quot;obs&quot;</td><td>&quot;observation&quot;</td><td>3</td></tr><tr><td>&quot;signals&quot;</td><td>&quot;emitted&quot;</td><td>1</td></tr><tr><td>&quot;stats&quot;</td><td>&quot;updated&quot;</td><td>3</td></tr></tbody></table></div>"
      ],
      "text/plain": [
       "shape: (5, 3)\n",
       "┌───────────┬─────────────┬───────┐\n",
       "│ namespace ┆ kind        ┆ count │\n",
       "│ ---       ┆ ---         ┆ ---   │\n",
       "│ str       ┆ str         ┆ u32   │\n",
       "╞═══════════╪═════════════╪═══════╡\n",
       "│ criteria  ┆ updated     ┆ 3     │\n",
       "│ design    ┆ registered  ┆ 1     │\n",
       "│ obs       ┆ observation ┆ 3     │\n",
       "│ signals   ┆ emitted     ┆ 1     │\n",
       "│ stats     ┆ updated     ┆ 3     │\n",
       "└───────────┴─────────────┴───────┘"
      ]
     },
     "metadata": {},
     "output_type": "display_data"
    }
   ],
   "source": [
    "from IPython.display import display\n",
    "\n",
    "gen = LedgerReporter(L.frame())\n",
    "gen_table = gen.ledger_table()\n",
    "gen_counts = gen.counts()\n",
    "display(gen_table)\n",
    "display(gen_counts)"
   ]
  },
  {
   "cell_type": "code",
   "execution_count": null,
   "id": "56ad1755",
   "metadata": {},
   "outputs": [
    {
     "name": "stdout",
     "output_type": "stream",
     "text": [
      "=== Tag Usage Analysis ===\n",
      "Namespace + Tag combinations:\n",
      "shape: (5, 3)\n",
      "┌───────────┬──────────────┬─────┐\n",
      "│ namespace ┆ tag          ┆ len │\n",
      "│ ---       ┆ ---          ┆ --- │\n",
      "│ str       ┆ str          ┆ u32 │\n",
      "╞═══════════╪══════════════╪═════╡\n",
      "│ signals   ┆ gst:decision ┆ 1   │\n",
      "│ criteria  ┆ crit:gst     ┆ 3   │\n",
      "│ stats     ┆ stat:waldz   ┆ 3   │\n",
      "│ design    ┆ design       ┆ 1   │\n",
      "│ obs       ┆ obs          ┆ 3   │\n",
      "└───────────┴──────────────┴─────┘\n",
      "\n",
      "Unique tags:\n",
      "shape: (5,)\n",
      "Series: 'tag' [str]\n",
      "[\n",
      "\t\"crit:gst\"\n",
      "\t\"design\"\n",
      "\t\"gst:decision\"\n",
      "\t\"obs\"\n",
      "\t\"stat:waldz\"\n",
      "]\n",
      "\n",
      "Tag patterns by namespace:\n",
      "  design: ['design']\n",
      "  obs: ['obs']\n",
      "  stats: ['stat:waldz']\n",
      "  criteria: ['crit:gst']\n",
      "  signals: ['gst:decision']\n"
     ]
    }
   ],
   "source": [
    "# Tag analysis\n",
    "print(\"=== Tag Usage Analysis ===\")\n",
    "import polars as pl\n",
    "\n",
    "# Get ledger dataframe properly\n",
    "ledger_df = L._df\n",
    "\n",
    "# Analyze tag patterns\n",
    "tag_analysis = (\n",
    "    ledger_df.select([\"namespace\", \"tag\"]).group_by([\"namespace\", \"tag\"]).len()\n",
    ")\n",
    "print(\"Namespace + Tag combinations:\")\n",
    "print(tag_analysis)\n",
    "\n",
    "print(\"\\nUnique tags:\")\n",
    "unique_tags = ledger_df[\"tag\"].unique().sort()\n",
    "print(unique_tags)\n",
    "\n",
    "print(\"\\nTag patterns by namespace:\")\n",
    "for ns in [\"design\", \"obs\", \"stats\", \"criteria\", \"signals\"]:\n",
    "    ns_tags = ledger_df.filter(pl.col(\"namespace\") == ns)[\"tag\"].unique().sort()\n",
    "    print(f\"  {ns}: {ns_tags.to_list()}\")"
   ]
  },
  {
   "cell_type": "code",
   "execution_count": null,
   "id": "b0b471a5",
   "metadata": {},
   "outputs": [
    {
     "data": {
      "text/html": [
       "<div><style>\n",
       ".dataframe > thead > tr,\n",
       ".dataframe > tbody > tr {\n",
       "  text-align: right;\n",
       "  white-space: pre-wrap;\n",
       "}\n",
       "</style>\n",
       "<small>shape: (3, 13)</small><table border=\"1\" class=\"dataframe\"><thead><tr><th>time_index</th><th>ts</th><th>entity</th><th>look</th><th>z</th><th>nA</th><th>nB</th><th>mA</th><th>mB</th><th>upper</th><th>lower</th><th>t</th><th>stopped</th></tr><tr><td>str</td><td>datetime[μs, UTC]</td><td>str</td><td>i64</td><td>f64</td><td>i64</td><td>i64</td><td>i64</td><td>i64</td><td>f64</td><td>f64</td><td>f64</td><td>str</td></tr></thead><tbody><tr><td>&quot;t1&quot;</td><td>2025-09-07 17:10:32.844534 UTC</td><td>&quot;exp#loop-demo&quot;</td><td>1</td><td>2.9277</td><td>100</td><td>100</td><td>64</td><td>82</td><td>3.919928</td><td>-3.919928</td><td>0.25</td><td>&quot;no&quot;</td></tr><tr><td>&quot;t2&quot;</td><td>2025-09-07 17:10:32.847139 UTC</td><td>&quot;exp#loop-demo&quot;</td><td>2</td><td>2.468454</td><td>200</td><td>200</td><td>141</td><td>162</td><td>2.771808</td><td>-2.771808</td><td>0.5</td><td>&quot;no&quot;</td></tr><tr><td>&quot;t3&quot;</td><td>2025-09-07 17:10:32.848914 UTC</td><td>&quot;exp#loop-demo&quot;</td><td>3</td><td>3.638294</td><td>300</td><td>300</td><td>207</td><td>245</td><td>2.263171</td><td>-2.263171</td><td>0.75</td><td>&quot;yes&quot;</td></tr></tbody></table></div>"
      ],
      "text/plain": [
       "shape: (3, 13)\n",
       "┌────────────┬──────────────────┬───────────────┬──────┬───┬──────────┬───────────┬──────┬─────────┐\n",
       "│ time_index ┆ ts               ┆ entity        ┆ look ┆ … ┆ upper    ┆ lower     ┆ t    ┆ stopped │\n",
       "│ ---        ┆ ---              ┆ ---           ┆ ---  ┆   ┆ ---      ┆ ---       ┆ ---  ┆ ---     │\n",
       "│ str        ┆ datetime[μs,     ┆ str           ┆ i64  ┆   ┆ f64      ┆ f64       ┆ f64  ┆ str     │\n",
       "│            ┆ UTC]             ┆               ┆      ┆   ┆          ┆           ┆      ┆         │\n",
       "╞════════════╪══════════════════╪═══════════════╪══════╪═══╪══════════╪═══════════╪══════╪═════════╡\n",
       "│ t1         ┆ 2025-09-07       ┆ exp#loop-demo ┆ 1    ┆ … ┆ 3.919928 ┆ -3.919928 ┆ 0.25 ┆ no      │\n",
       "│            ┆ 17:10:32.844534  ┆               ┆      ┆   ┆          ┆           ┆      ┆         │\n",
       "│            ┆ UTC              ┆               ┆      ┆   ┆          ┆           ┆      ┆         │\n",
       "│ t2         ┆ 2025-09-07       ┆ exp#loop-demo ┆ 2    ┆ … ┆ 2.771808 ┆ -2.771808 ┆ 0.5  ┆ no      │\n",
       "│            ┆ 17:10:32.847139  ┆               ┆      ┆   ┆          ┆           ┆      ┆         │\n",
       "│            ┆ UTC              ┆               ┆      ┆   ┆          ┆           ┆      ┆         │\n",
       "│ t3         ┆ 2025-09-07       ┆ exp#loop-demo ┆ 3    ┆ … ┆ 2.263171 ┆ -2.263171 ┆ 0.75 ┆ yes     │\n",
       "│            ┆ 17:10:32.848914  ┆               ┆      ┆   ┆          ┆           ┆      ┆         │\n",
       "│            ┆ UTC              ┆               ┆      ┆   ┆          ┆           ┆      ┆         │\n",
       "└────────────┴──────────────────┴───────────────┴──────┴───┴──────────┴───────────┴──────┴─────────┘"
      ]
     },
     "execution_count": 5,
     "metadata": {},
     "output_type": "execute_result"
    }
   ],
   "source": [
    "rep = TwoPropGSTReporter(L.frame())\n",
    "progress = rep.progress_table()\n",
    "progress"
   ]
  },
  {
   "cell_type": "markdown",
   "id": "04dcf048",
   "metadata": {},
   "source": [
    "## Visualize Z and boundaries\n",
    "A simple plot of the Wald Z trajectory and the symmetric boundaries across information fractions."
   ]
  },
  {
   "cell_type": "code",
   "execution_count": null,
   "id": "86d046be",
   "metadata": {},
   "outputs": [
    {
     "data": {
      "image/png": "[encoded data removed]",
      "text/plain": [
       "<Figure size 650x420 with 1 Axes>"
      ]
     },
     "metadata": {},
     "output_type": "display_data"
    }
   ],
   "source": [
    "# If running in a notebook, this will render inline\n",
    "rep.plot()"
   ]
  },
  {
   "cell_type": "markdown",
   "id": "a003e65c",
   "metadata": {},
   "source": [
    "## Next steps\n",
    "- Replace the simulated observation batches with your actual data source.\n",
    "- Swap OBF with Pocock spending by setting `style=\"pocock\"`.\n",
    "- Extend the scheme to other data types or add additional criteria/signals.\n",
    "- Persist the Polars ledger using sinks/sources in `earlysign.backends.polars.io`."
   ]
  },
  {
   "cell_type": "markdown",
   "id": "439fb586",
   "metadata": {},
   "source": [
    "## Advanced: Creating Custom Experiment Modules\n",
    "\n",
    "The modular architecture makes it easy to create **portable, shareable experiment definitions**. Here's how to create your own custom modules:\n",
    "\n",
    "### 1. Custom Module Definition\n",
    "Analysts can create their own modules by subclassing `ExperimentModule` or `TwoPropModule`\n",
    "\n",
    "### 2. Data Ingestion Components\n",
    "For complex data scenarios, you can still access the underlying ingestion components\n",
    "\n",
    "### 3. Module Comparison\n",
    "Compare different experiment designs using the `BatchRunner`"
   ]
  },
  {
   "cell_type": "code",
   "execution_count": null,
   "id": "c0c50ef3",
   "metadata": {},
   "outputs": [],
   "source": [
    "from earlysign.schemes.two_proportions.ingest import TwoPropIngestor, ObservationBatch\n",
    "\n",
    "# Create ingestor with custom validation settings\n",
    "ingestor = TwoPropIngestor(\n",
    "    auto_validate=True,\n",
    "    require_both_groups=True,  # Require data from both groups\n",
    "    tag_obs=\"obs:validated\",\n",
    ")\n",
    "\n",
    "# Example 1: Dictionary format ingestion\n",
    "data_dict = {\n",
    "    \"group_a_success\": 15,\n",
    "    \"group_a_total\": 30,\n",
    "    \"group_b_success\": 20,\n",
    "    \"group_b_total\": 30,\n",
    "}\n",
    "batch1 = ingestor.ingest_from_dict(data_dict)\n",
    "print(f\"Dictionary batch rates: {batch1.get_rates()}\")\n",
    "\n",
    "# Example 2: Individual observations (e.g., from real-time stream)\n",
    "individual_outcomes_a = [True, False, True, True, False, True]\n",
    "individual_outcomes_b = [True, True, False, True, True, False]\n",
    "batch2 = ingestor.ingest_from_arrays(individual_outcomes_a, individual_outcomes_b)\n",
    "print(f\"Individual batch payload: {batch2.to_payload()}\")\n",
    "\n",
    "# Example 3: Manual batch building with validation\n",
    "batch3 = ObservationBatch()\n",
    "batch3.add_individual_observation(\"group_a\", True)\n",
    "batch3.add_individual_observation(\"group_a\", False)\n",
    "batch3.add_individual_observation(\"group_b\", True)\n",
    "\n",
    "# Check validation\n",
    "if batch3.validate():\n",
    "    print(\"✅ Batch3 is valid\")\n",
    "else:\n",
    "    print(f\"❌ Validation errors: {batch3.validation_errors}\")\n",
    "\n",
    "# Example 4: Integration with existing experiment\n",
    "# You can still use the experiment's ingestor for advanced operations\n",
    "print(f\"\\nExperiment ingestor settings:\")\n",
    "print(f\"- Auto validate: {experiment.ingestor.auto_validate}\")\n",
    "print(f\"- Require both groups: {experiment.ingestor.require_both_groups}\")\n",
    "print(f\"- Tag: {experiment.ingestor.tag_obs}\")\n",
    "\n",
    "# The simplified add_observations() method uses this ingestor internally\n",
    "print(\n",
    "    \"\\n🎯 The experiment.add_observations() method provides the same validation and audit trail!\"\n",
    ")"
   ]
  }
 ],
 "metadata": {
  "kernelspec": {
   "display_name": "earlysign-py3.11",
   "language": "python",
   "name": "python3"
  },
  "language_info": {
   "codemirror_mode": {
    "name": "ipython",
    "version": 3
   },
   "file_extension": ".py",
   "mimetype": "text/x-python",
   "name": "python",
   "nbconvert_exporter": "python",
   "pygments_lexer": "ipython3",
   "version": "3.11.8"
  }
 },
 "nbformat": 4,
 "nbformat_minor": 5
}
